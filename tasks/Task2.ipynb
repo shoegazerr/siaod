{
 "cells": [
  {
   "cell_type": "markdown",
   "id": "arctic-stocks",
   "metadata": {},
   "source": [
    "### Задание №1\n",
    "Массив A состоит из целых положительных чисел длин отрезков. Составьте из трех отрезков такой треугольник, чтобы его периметр был максимально возможным. Если невозможно составить треугольник с положительной площадью функция возвращает 0."
   ]
  },
  {
   "cell_type": "code",
   "execution_count": 20,
   "id": "caring-truck",
   "metadata": {
    "scrolled": false
   },
   "outputs": [
    {
     "name": "stdout",
     "output_type": "stream",
     "text": [
      "[29, 11, 8, 21, 28, 26, 20, 26, 14, 8, 16, 20, 15, 14, 4, 30, 13, 13, 28, 28, 14, 2, 13, 7, 19, 29, 30, 21, 17, 19, 27, 29, 24, 24, 10, 27, 11, 18, 9, 12, 1, 15, 12, 27, 9, 17, 26, 28, 19, 23]\n",
      "([30, 30, 29], 89)\n"
     ]
    }
   ],
   "source": [
    "from random import randint\n",
    "def maxtri(array): \n",
    "    array.sort()\n",
    "    p = 0\n",
    "    i=len(array)-1\n",
    "    while i>=2:\n",
    "        a=array[i]\n",
    "        b=array[i-1]\n",
    "        c=array[i-2]\n",
    "        if a < b + c:\n",
    "            p = a + b + c\n",
    "            break\n",
    "        i-=1\n",
    "    return [a,b,c], p\n",
    "n=int(input())\n",
    "array=list()\n",
    "for i in range(n):\n",
    "        array.append(randint(1,30))\n",
    "print(array)\n",
    "print(maxtri(array))"
   ]
  },
  {
   "cell_type": "markdown",
   "id": "maritime-conversation",
   "metadata": {},
   "source": [
    "### Задание №2\n",
    "Дан массив неотрицательных целых чисел nums. Расположите их в таком порядке, чтобы вместе они образовали максимально возможное число. Замечание: Результат может быть очень большим числом, поэтому представьте его как string, а не integer."
   ]
  },
  {
   "cell_type": "code",
   "execution_count": 24,
   "id": "alert-charm",
   "metadata": {
    "scrolled": false
   },
   "outputs": [
    {
     "name": "stdout",
     "output_type": "stream",
     "text": [
      "[6, 4, 6, 1, 6, 4, 4, 6, 3, 1, 3, 5, 3, 5, 2, 1, 5, 9, 4, 3]\n",
      "96666555444433332111\n"
     ]
    }
   ],
   "source": [
    "import random\n",
    "def sort_array(numbers):\n",
    "    for i in range(len(numbers)):\n",
    "        numbers[i] = str(numbers[i])   \n",
    "    numbers.sort(reverse = True)\n",
    "    new = \"\"\n",
    "    for i in range(len(numbers)):\n",
    "        new =new+ numbers[i]\n",
    "    return new\n",
    "numbers = []\n",
    "for i in range(20):\n",
    "    numbers.append(random.randint(1, 9))\n",
    "print(numbers)\n",
    "print(sort_array(numbers))"
   ]
  },
  {
   "cell_type": "markdown",
   "id": "catholic-roots",
   "metadata": {},
   "source": [
    "### Задание №3\n",
    "Дана матрица mat размером m * n, значения целочисленные. Напишите функцию, сортирующую каждую диагональ матрицы по возрастанию и возвращающую получившуюся матрицу."
   ]
  },
  {
   "cell_type": "code",
   "execution_count": 28,
   "id": "cleared-anniversary",
   "metadata": {
    "scrolled": false
   },
   "outputs": [
    {
     "name": "stdout",
     "output_type": "stream",
     "text": [
      "1 1 11 7 4 \n",
      "16 19 1 6 5 \n",
      "14 13 20 2 2 \n",
      "8 1 4 18 5 \n",
      "10 2 11 11 9 \n",
      "\n",
      "1 1 11 7 20 \n",
      "16 9 1 10 5 \n",
      "14 13 6 2 2 \n",
      "8 4 4 19 5 \n",
      "1 2 11 11 20 \n",
      "\n"
     ]
    }
   ],
   "source": [
    "import random\n",
    "def print_matrix(matrix):\n",
    "    for i in range(len(matrix)):\n",
    "        for j in range(len(matrix[0])):\n",
    "            print(matrix[i][j], end = ' ')\n",
    "        print()\n",
    "    print()\n",
    "def random_mat(m, n, min_lim, max_lim):\n",
    "    mat = []\n",
    "    for i in range(m):\n",
    "        mat.append([0] * n)\n",
    "        for j in range(n):\n",
    "            mat[i][j] = random.randint(min_lim, max_lim)\n",
    "    return mat   \n",
    "def sort_d(matrix):\n",
    "    length = min(len(matrix), len(matrix[0]))\n",
    "    d1 = []\n",
    "    d2 = []\n",
    "    for i in range(length):\n",
    "        d1.append(matrix[i][i])\n",
    "        d2.append(matrix[-i - 1][i])\n",
    "    d1.sort()\n",
    "    d2.sort()\n",
    "    for i in range(length):\n",
    "        matrix[i][i] = d1[i]\n",
    "        matrix[-i - 1][i] = d2[i]       \n",
    "mat = random_mat(5, 5, 1, 20)\n",
    "print_matrix(mat)\n",
    "sort_d(mat)\n",
    "print_matrix(mat)"
   ]
  }
 ],
 "metadata": {
  "kernelspec": {
   "display_name": "Python 3 (ipykernel)",
   "language": "python",
   "name": "python3"
  },
  "language_info": {
   "codemirror_mode": {
    "name": "ipython",
    "version": 3
   },
   "file_extension": ".py",
   "mimetype": "text/x-python",
   "name": "python",
   "nbconvert_exporter": "python",
   "pygments_lexer": "ipython3",
   "version": "3.8.8"
  }
 },
 "nbformat": 4,
 "nbformat_minor": 5
}
